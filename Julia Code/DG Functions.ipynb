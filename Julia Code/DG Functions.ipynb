{
 "cells": [
  {
   "cell_type": "code",
   "execution_count": 16,
   "metadata": {
    "collapsed": false
   },
   "outputs": [
    {
     "name": "stderr",
     "output_type": "stream",
     "text": [
      "INFO: Recompiling stale cache file /Users/Alex/.julia/lib/v0.4/PyPlot.ji for module PyPlot.\n",
      "INFO: Recompiling stale cache file /Users/Alex/.julia/lib/v0.4/Conda.ji for module Conda.\n",
      "INFO: Recompiling stale cache file /Users/Alex/.julia/lib/v0.4/PyCall.ji for module PyCall.\n",
      "//anaconda/lib/python2.7/site-packages/matplotlib/font_manager.py:273: UserWarning: Matplotlib is building the font cache using fc-list. This may take a moment.\n",
      "  warnings.warn('Matplotlib is building the font cache using fc-list. This may take a moment.')\n"
     ]
    }
   ],
   "source": [
    "using PyPlot"
   ]
  },
  {
   "cell_type": "code",
   "execution_count": 421,
   "metadata": {
    "collapsed": false
   },
   "outputs": [
    {
     "data": {
      "text/plain": [
       "DG_Basis (generic function with 1 method)"
      ]
     },
     "execution_count": 421,
     "metadata": {},
     "output_type": "execute_result"
    }
   ],
   "source": [
    "function f(j::Int,x::Real)\n",
    "    if x>0\n",
    "        return x^j\n",
    "    elseif x<0\n",
    "        return - x^j\n",
    "    else\n",
    "        return 0\n",
    "    end\n",
    "end\n",
    "\n",
    "function plot_func(f::Function) # This time we plot on [-1, 1]\n",
    "    xs=linspace(-1,1,300)\n",
    "    ys=[f(x) for x in xs]\n",
    "    surf=plot(xs,ys)\n",
    "end\n",
    "\n",
    "function product_matrix(i::Int, j::Int, n::Int) \n",
    "    # This is the inner product of <x^i, x^j> when i,j < n/2 \n",
    "    # or the appropriate reflection when they are >=\n",
    "    # Exact expressions only. No NIntegrations\n",
    "    k= Int(round(n/2))\n",
    "    if i < k && j<k\n",
    "        return (1 + (-1)^(i + j))/(1 + i + j) \n",
    "    elseif i >= k && j< k \n",
    "\t\treturn (1 - (-1)^((i-k) + (j)))/(1 + (i-k) + (j)) \n",
    "\telseif i < k && j >= k\n",
    "\t\treturn product_matrix(j,i,n)\n",
    "    else\n",
    "\t\treturn (1 + (-1)^((i-k) + (j-k)))/(1 + (i-k) + (j-k)) \n",
    "    end\n",
    "end\n",
    "\n",
    "function inner_product{T<:Real}(v1::Array{T},v2::Array{T}) \n",
    "\tvalue=0.0\n",
    "\tn=length(v1)\n",
    "\tfor i in 1:n\n",
    "\t\tfor j in 1:n\n",
    "            if v1[i]==0 || v2[j]==0\n",
    "                continue \n",
    "            else\n",
    "                value += product_matrix(i-1,j-1,n)*v1[i]*v2[j]\n",
    "            end\n",
    "\t\tend\n",
    "\tend\n",
    "    return value\n",
    "end\n",
    "\n",
    "function inner_product{T<:Real}(v1::Array{T},j::Int) #we consider x^(j-1)\n",
    "\tvalue=0.0\n",
    "\tn=length(v1)\n",
    "\tfor i in 1:n\n",
    "        value += product_matrix(i-1,j-1,n)*v1[i]\n",
    "\tend\n",
    "    return value\n",
    "end\n",
    "\n",
    "function gram_schmidt{T<:Real}(Q_initial::Array{Array{T,1},1}) #I think an array of arrays is easiest here\n",
    "    n = length(Q_initial[1])\n",
    "    k = Int(round(n/2))\n",
    "    Q_final = deepcopy(Q_initial) \n",
    "    for i = 1:k    \n",
    "        for j = 1:i-1 \n",
    "            proj = inner_product(Q_initial[i],Q_final[j])/inner_product(Q_final[j], Q_final[j]) \n",
    "            Q_final[i] -= proj * Q_final[j]   \n",
    "        end\n",
    "        Q_final[i] /= sqrt(inner_product(Q_final[i], Q_final[i])) \n",
    "    end\n",
    "    return Q_final\n",
    "end\n",
    "\n",
    "function legendre(k::Int)\n",
    "    Q = [[i==j?1.0:0.0 for i = 1:2*(k+1)] for j = 1:(k+1)]\n",
    "    Q = gram_schmidt(Q)\n",
    "    return Q\n",
    "end\n",
    "#working \n",
    "\n",
    "function orthogonalize_1{T<:Real}(v::Array{T})     #modifier of v\n",
    "    n=length(v)\n",
    "    k= Int(round(n/2))\n",
    "    legendre_polys=legendre(k-1)\n",
    "    for j in 1:k\n",
    "        v[j]-= inner_product(v,legendre_polys[j])/product_matrix(j-1,j-1,n) #project out\n",
    "        @show legendre_polys[j]\n",
    "    end\n",
    "    return v\n",
    "end\n",
    "#working up to here\n",
    "\n",
    "function orthogonalize_1{T<:Real}(Q_initial::Array{Array{T,1},1})\n",
    "    n = length(Q_initial[1])\n",
    "    k = Int(round(n/2))\n",
    "    Q_final = deepcopy(Q_initial)\n",
    "    legendre_polys=legendre(k-1)\n",
    "    for i = 1:k\n",
    "        for j in 1:k\n",
    "            proj =  inner_product(Q_initial[i],legendre_polys[j])/\n",
    "                        inner_product(legendre_polys[j],legendre_polys[j])\n",
    "            Q_final[i] -= proj*legendre_polys[j]\n",
    "        end\n",
    "    end\n",
    "    return Q_final\n",
    "end\n",
    "#working\n",
    "\n",
    "function orthogonalize_2{T<:Real}(Q_initial::Array{Array{T,1},1})\n",
    "    #k-1 vectors orth to x^k, k-2 to x^k+1 all the way to 1 vector orth to x^2k-2\n",
    "    n = length(Q_initial[1])\n",
    "    k = Int(round(n/2))\n",
    "    Q_final = deepcopy(Q_initial)\n",
    "    for i = 1:k-1\n",
    "        fi=copy(Q_initial[i]) #we assume this isn't perp to x^(k+i-1) and subtract it from the next ones\n",
    "        for j = i+1:k\n",
    "            #fj = copy(Q_final[j])\n",
    "            a= inner_product(Q_final[j],k+i)/inner_product(fi, k+i)\n",
    "            Q_final[j] -= a * fi\n",
    "        end\n",
    "    end \n",
    "    return Q_final\n",
    "end\n",
    "\n",
    "\n",
    "#standard gram-schmidt process, starting at the end\n",
    "function gram_schmidt_rev{T<:Real}(Q_initial::Array{Array{T,1},1}) #I think an array of arrays is easiest here\n",
    "    n = length(Q_initial[1])\n",
    "    k = Int(round(n/2))\n",
    "    Q_final = [[0.0 for i in 1:n] for j in 1:k]\n",
    "    for i = k:-1:1    #note we're going in reverse \n",
    "        fi = copy(Q_initial[i])  #we won't modify the original, so we copy\n",
    "        Q_final[i] = fi          #start with Q_final = f_i, and we'll subtract projections\n",
    "        for j = i+1:k #because we're going in reverse\n",
    "            proj = inner_product(fi,Q_final[j])/inner_product(Q_final[j], Q_final[j]) \n",
    "            #find the projection\n",
    "            Q_final[i] -= proj * Q_final[j]    #project out direction j\n",
    "        end\n",
    "        Q_final[i] /= sqrt(inner_product(Q_final[i], Q_final[i])) #now normalize\n",
    "    end\n",
    "    return Q_final\n",
    "end\n",
    "#seems to be working \n",
    "\n",
    "function DG_Basis(k::Int)\n",
    "    Q = [[j==(i-k)?1.0:0.0 for i in 1:2*k] for j in 1:k]\n",
    "    Q = orthogonalize_1(Q)\n",
    "    Q = orthogonalize_2(Q) #check here (its close?)\n",
    "    Q = gram_schmidt_rev(Q)\n",
    "    return Q\n",
    "end"
   ]
  },
  {
   "cell_type": "code",
   "execution_count": 424,
   "metadata": {
    "collapsed": false
   },
   "outputs": [
    {
     "data": {
      "text/plain": [
       "7x4 Array{Any,2}:\n",
       "  0.0          0.0       0.0           0.0        \n",
       " -6.66593e-17  0.0       0.0           0.0        \n",
       "  0.0          0.0       0.0          -1.77636e-15\n",
       " -8.1447e-17   0.0       3.55271e-15   0.0        \n",
       "  0.53033      0.0       7.10543e-15   0.0        \n",
       "  0.0          0.102062  0.0           0.0        \n",
       " -0.0196419    0.0       0.0175682     0.0        "
      ]
     },
     "execution_count": 424,
     "metadata": {},
     "output_type": "execute_result"
    }
   ],
   "source": [
    "dg=DG_Basis(4)\n",
    "[inner_product(dg[i],j) for j in 1:7, i in 1:4]"
   ]
  },
  {
   "cell_type": "code",
   "execution_count": 423,
   "metadata": {
    "collapsed": false
   },
   "outputs": [
    {
     "data": {
      "text/plain": [
       "4x4 Array{Any,2}:\n",
       " 1.0           0.0          -1.33981e-14  0.0        \n",
       " 0.0           1.0           0.0          2.84217e-14\n",
       " 1.69794e-15   0.0           1.0          0.0        \n",
       " 0.0          -5.68434e-14   0.0          1.0        "
      ]
     },
     "execution_count": 423,
     "metadata": {},
     "output_type": "execute_result"
    }
   ],
   "source": [
    "[inner_product(dg[i],dg[j]) for i in 1:4, j in 1:4]"
   ]
  },
  {
   "cell_type": "code",
   "execution_count": 387,
   "metadata": {
    "collapsed": false
   },
   "outputs": [
    {
     "data": {
      "text/plain": [
       "4-element Array{Array{Float64,1},1}:\n",
       " [0.0,-2.812500000000002,0.0,2.1875000000000036,1.0,0.0,0.0,0.0]   \n",
       " [-0.1875,0.0,-0.9375,0.0,0.0,1.0,0.0,0.0]                         \n",
       " [0.0,-0.31250000000000094,0.0,-0.729166666666665,0.0,0.0,1.0,0.0] \n",
       " [0.062499999999999944,0.0,-0.9374999999999999,0.0,0.0,0.0,0.0,1.0]"
      ]
     },
     "execution_count": 387,
     "metadata": {},
     "output_type": "execute_result"
    }
   ],
   "source": [
    "dg=DG_Basis(4)"
   ]
  },
  {
   "cell_type": "code",
   "execution_count": 352,
   "metadata": {
    "collapsed": false
   },
   "outputs": [
    {
     "data": {
      "text/plain": [
       "10x5 Array{Float64,2}:\n",
       "  0.0          -7.54746e-16   0.0           2.84217e-14   0.0        \n",
       "  2.84217e-14   0.0          -3.55271e-15   0.0           0.0        \n",
       "  0.0          -2.27952e-15   0.0          -1.42109e-14   0.0        \n",
       "  1.77636e-14   0.0           1.77636e-15   0.0           8.88178e-15\n",
       "  0.0          -3.04191e-15   0.0          -1.42109e-14   0.0        \n",
       "  0.272853      0.0          -0.314711      0.0          -0.328266   \n",
       "  0.0           0.051031      0.0           0.0           0.0        \n",
       " -0.0101057     0.0           0.0243376     0.0          -1.77636e-15\n",
       "  0.0          -0.00765466    0.0           0.00334077    0.0        \n",
       "  0.0148697     0.0          -0.0243976     0.0           0.00719059 "
      ]
     },
     "execution_count": 352,
     "metadata": {},
     "output_type": "execute_result"
    }
   ],
   "source": [
    "dg=DG_Basis(5)\n",
    "[inner_product(dg[i],[j==k?1.0:0.0 for k in 1:10]) for j in 1:10, i in 1:5]"
   ]
  },
  {
   "cell_type": "code",
   "execution_count": 351,
   "metadata": {
    "collapsed": false
   },
   "outputs": [
    {
     "data": {
      "text/plain": [
       "3-element Array{Array{Float64,1},1}:\n",
       " [0.0,-2.1213203435596544,0.0,1.414213562373097,0.0,1.1916163935587099e-14]\n",
       " [-1.8371173070873867,0.0,-9.185586535436935,0.0,9.79795897113273,0.0]     \n",
       " [0.0,-9.486832980505154,0.0,1.581138830084193,0.0,9.486832980505154]      "
      ]
     },
     "execution_count": 351,
     "metadata": {},
     "output_type": "execute_result"
    }
   ],
   "source": [
    "DG_Basis(3)"
   ]
  },
  {
   "cell_type": "code",
   "execution_count": null,
   "metadata": {
    "collapsed": true
   },
   "outputs": [],
   "source": []
  }
 ],
 "metadata": {
  "celltoolbar": "Edit Metadata",
  "kernelspec": {
   "display_name": "Julia 0.4.6",
   "language": "julia",
   "name": "julia-0.4"
  },
  "language_info": {
   "file_extension": ".jl",
   "mimetype": "application/julia",
   "name": "julia",
   "version": "0.4.6"
  }
 },
 "nbformat": 4,
 "nbformat_minor": 0
}
