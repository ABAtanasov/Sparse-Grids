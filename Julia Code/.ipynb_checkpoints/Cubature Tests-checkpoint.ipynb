{
 "cells": [
  {
   "cell_type": "code",
   "execution_count": 1,
   "metadata": {
    "collapsed": true
   },
   "outputs": [],
   "source": [
    "using Cubature"
   ]
  },
  {
   "cell_type": "code",
   "execution_count": 38,
   "metadata": {
    "collapsed": false
   },
   "outputs": [
    {
     "data": {
      "text/plain": [
       "(0.5356970668023628,4.9394817962407356e-9)"
      ]
     },
     "execution_count": 38,
     "metadata": {},
     "output_type": "execute_result"
    }
   ],
   "source": [
    "(val,err) = hcubature(x->sin(pi*x[1]+x[2]), [0,0], [1,1];)"
   ]
  },
  {
   "cell_type": "code",
   "execution_count": 54,
   "metadata": {
    "collapsed": false
   },
   "outputs": [
    {
     "name": "stdout",
     "output_type": "stream",
     "text": [
      "hcubature((x->begin  # In[54], line 2:\n",
      "            sin(pi * x[1] + x[2])\n",
      "        end),[0,0],[1,1]; reltol=1.0e-7) = (0.5356970668041318,5.1476731616467014e-8)\n"
     ]
    },
    {
     "data": {
      "text/plain": [
       "205.6359466440522"
      ]
     },
     "execution_count": 54,
     "metadata": {},
     "output_type": "execute_result"
    }
   ],
   "source": [
    "tic()\n",
    "@show hcubature(x->sin(pi*x[1]+x[2]), [0,0], [1,1]; reltol=1e-7,)\n",
    "1/toq()"
   ]
  }
 ],
 "metadata": {
  "kernelspec": {
   "display_name": "Julia 0.4.6",
   "language": "julia",
   "name": "julia-0.4"
  },
  "language_info": {
   "file_extension": ".jl",
   "mimetype": "application/julia",
   "name": "julia",
   "version": "0.4.6"
  }
 },
 "nbformat": 4,
 "nbformat_minor": 0
}
