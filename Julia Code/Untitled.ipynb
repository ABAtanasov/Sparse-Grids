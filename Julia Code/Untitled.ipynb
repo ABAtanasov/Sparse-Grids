{
 "cells": [
  {
   "cell_type": "code",
   "execution_count": 8,
   "metadata": {
    "collapsed": false
   },
   "outputs": [
    {
     "name": "stderr",
     "output_type": "stream",
     "text": [
      "WARNING: redefining constant Leg_coeffs\n",
      "WARNING: redefining constant DG_coeffs\n"
     ]
    },
    {
     "data": {
      "text/plain": [
       "vsparse_reconstruct_DG (generic function with 1 method)"
      ]
     },
     "execution_count": 8,
     "metadata": {},
     "output_type": "execute_result"
    }
   ],
   "source": [
    "include(\"DG_Methods.jl\")"
   ]
  },
  {
   "cell_type": "code",
   "execution_count": 2,
   "metadata": {
    "collapsed": false
   },
   "outputs": [
    {
     "data": {
      "text/plain": [
       "sparse_reference_vector (generic function with 1 method)"
      ]
     },
     "execution_count": 2,
     "metadata": {},
     "output_type": "execute_result"
    }
   ],
   "source": [
    "function Full_Dict2Vec{D,T<:Real}(k::Int, coefficients::Dict{CartesianIndex{D}, Array{Array{T},D}}, ls::NTuple{D,Int})\n",
    "\tj=1\n",
    "\tsize=0\n",
    "\tf_numbers= ntuple(q-> k, D)\n",
    "\tfor level in CartesianRange(ls)\n",
    "\t\tks = ntuple(q -> 1<<pos(level[q]-2), D)\n",
    "\t\tsize+=prod(ks)*k^D\n",
    "\tend\n",
    "\tvect = Array(Float64,size)\n",
    "    for level in CartesianRange(ls)     # This really goes from 0 to l_i for each i,\n",
    "        ks = ntuple(q -> 1<<pos(level[q]-2), D)  #This sets up a specific k+1 vector\n",
    "        for place in CartesianRange(ks)\n",
    "\t\t\tfor f_number in CartesianRange(f_numbers)\n",
    "                vect[j]=coefficients[level][place][f_number]\n",
    "\t\t\t\tj+=1\n",
    "            end\n",
    "        end\n",
    "    end\n",
    "\treturn vect\n",
    "end\n",
    "\n",
    "function Sparse_Dict2Vec{D,T<:Real}(k::Int, coefficients::Dict{CartesianIndex{D}, Array{Array{T},D}}, n::Int)\n",
    "\tj=1\n",
    "\tsize = 0\n",
    "\tf_numbers= ntuple(i-> k, D)\n",
    "    ls = ntuple(i->(n+1),D)\n",
    "    for level in CartesianRange(ls) #This really goes from 0 to l_i for each i\n",
    "        diag_level=0;\n",
    "        for q in 1:D\n",
    "            diag_level+=level[q]\n",
    "        end\n",
    "        if diag_level > n + D #If we're past the levels we care about, don't compute coeffs\n",
    "            continue\n",
    "        end  #Otherwise we'll go ahead and DO IT. The same code follows as before.\n",
    "\t\tks = ntuple(q -> 1<<pos(level[q]-2), D)\n",
    "\t\tsize+=prod(ks)*k^D\n",
    "\tend\n",
    "\tvect = Array(Float64,size)\n",
    "    for level in CartesianRange(ls) #This really goes from 0 to l_i for each i\n",
    "        diag_level=0;\n",
    "        for q in 1:D\n",
    "            diag_level+=level[q]\n",
    "        end\n",
    "        if diag_level > n + D #If we're past the levels we care about, don't compute coeffs\n",
    "            continue\n",
    "        end  #Otherwise we'll go ahead and DO IT. The same code follows as before.\n",
    "\t    ks = ntuple(q -> 1<<pos(level[q]-2), D)  #This sets up a specific k+1 vector\n",
    "\t    for place in CartesianRange(ks)\n",
    "            for f_number in CartesianRange(f_numbers)\n",
    "                vect[j] = coefficients[level][place][f_number]\n",
    "\t\t\t\tj+=1\n",
    "            end\n",
    "        end\n",
    "    end\n",
    "    return vect\n",
    "end\n",
    "\n",
    "\n",
    "\n",
    "function Full_Vec2Dict{D,T<:Real}(k::Int, vect::Array{T}, ls::NTuple{D,Int})\n",
    "    coeffs = Dict{CartesianIndex{D}, Array{Array{Float64},D}}()\n",
    "\tf_numbers= ntuple(q-> k, D)\n",
    "\tj=1\n",
    "\tfor level in CartesianRange(ls)     # This really goes from 0 to l_i for each i,\n",
    "        ks = ntuple(q -> 1<<pos(level[q]-2), D)  #This sets up a specific k+1 vector\n",
    "        level_coeffs = Array(Array{Float64},ks)\t #all the coefficients at this level\n",
    "        for place in CartesianRange(ks)\n",
    "            level_coeffs[place]=Array(Float64,f_numbers)\n",
    "\t\t\tfor f_number in CartesianRange(f_numbers)\n",
    "                level_coeffs[place][f_number]=vect[j]\n",
    "\t\t\t\tj+=1\n",
    "            end\n",
    "        end\n",
    "\t\tcoeffs[level] = level_coeffs\n",
    "    end\n",
    "\treturn coeffs\n",
    "end\n",
    "\n",
    "function Sparse_Vec2Dict{T<:Real}(k::Int, vect::Array{T}, n::Int, D::Int)\n",
    "    coeffs = Dict{CartesianIndex{D}, Array{Array{Float64},D}}()\n",
    "\tf_numbers= ntuple(q-> k, D)\n",
    "    ls = ntuple(i->(n+1),D)\n",
    "\tj=1\n",
    "\tfor level in CartesianRange(ls) #This really goes from 0 to l_i for each i\n",
    "        diag_level=0;\n",
    "        for q in 1:D\n",
    "            diag_level+=level[q]\n",
    "        end\n",
    "        if diag_level > n + D #If we're past the levels we care about, don't compute coeffs\n",
    "            continue\n",
    "        end  #Otherwise we'll go ahead and DO IT. The same code follows as before.\n",
    "        ks = ntuple(q -> 1<<pos(level[q]-2), D)  #This sets up a specific k+1 vector\n",
    "        level_coeffs = Array(Array{Float64},ks)\t #all the coefficients at this level\n",
    "        for place in CartesianRange(ks)\n",
    "            level_coeffs[place]=Array(Float64,f_numbers)\n",
    "\t\t\tfor f_number in CartesianRange(f_numbers)\n",
    "                level_coeffs[place][f_number]=vect[j]\n",
    "\t\t\t\tj+=1\n",
    "            end\n",
    "        end\n",
    "\t\tcoeffs[level] = level_coeffs\n",
    "    end\n",
    "\treturn coeffs\n",
    "end\n",
    "\n",
    "function enumerate_basis_number{D}(lvl::NTuple{D, Int},place::CartesianRange{D}, f_number::CartesianRange{D},i)\n",
    "\tif i<=D\n",
    "\t\treturn lvl[i]\n",
    "\telseif i<=2D\n",
    "\t\treturn place[i-D]\n",
    "\telse \n",
    "\t\treturn f_number[i-2*D]\n",
    "\tend\n",
    "end\n",
    "\n",
    "function full_reference_vector{D}(k::Int, ls::NTuple{D,Int})\n",
    "\tj=1\n",
    "\tsize=0\n",
    "\tf_numbers= ntuple(q-> k, D)\n",
    "\tfor level in CartesianRange(ls)\n",
    "\t\tks = ntuple(q -> 1<<pos(level[q]-2), D)\n",
    "\t\tsize+=prod(ks)*k^D\n",
    "\tend\n",
    "\tvect = Array(NTuple{3*D},size)\n",
    "    for level in CartesianRange(ls)     # This really goes from 0 to l_i for each i,\n",
    "        ks = ntuple(q -> 1<<pos(level[q]-2), D)  #This sets up a specific k+1 vector\n",
    "\t\tlvl = ntuple(i -> level[i]-1,D)\n",
    "\t\t\n",
    "        for place in CartesianRange(ks)\n",
    "\t\t\tfor f_number in CartesianRange(f_numbers)\n",
    "                vect[j]=ntuple(i->enumerate_basis_number(lvl,place,fnumber,i),3*D)\n",
    "\t\t\t\tj+=1\n",
    "            end\n",
    "        end\n",
    "    end\n",
    "\treturn vect\n",
    "end\n",
    "\n",
    "function sparse_reference_vector(k::Int,n::Int,D::Int)\n",
    "\tj=1\n",
    "\tsize=0\n",
    "\tf_numbers= ntuple(q-> k, D)\n",
    "\tfor level in CartesianRange(ls)\n",
    "\t\tks = ntuple(q -> 1<<pos(level[q]-2), D)\n",
    "\t\tsize+=prod(ks)*k^D\n",
    "\tend\n",
    "\tvect = Array(NTuple{3*D},size)\n",
    "    for level in CartesianRange(ls)\n",
    "        diag_level=0;\n",
    "        for q in 1:D\n",
    "            diag_level+=level[q]\n",
    "        end\n",
    "        if diag_level > n + D #If we're past the levels we care about, don't compute coeffs\n",
    "            continue\n",
    "\t\tend\n",
    "        ks = ntuple(q -> 1<<pos(level[q]-2), D)  #This sets up a specific k+1 vector\n",
    "\t\tlvl = ntuple(i -> level[i]-1,D)\n",
    "        for place in CartesianRange(ks)\n",
    "\t\t\tfor f_number in CartesianRange(f_numbers)\n",
    "                vect[j]=ntuple(i->enumerate_basis_number(lvl,place,fnumber,i),3*D)\n",
    "\t\t\t\tj+=1\n",
    "            end\n",
    "        end\n",
    "    end\n",
    "\treturn vect\n",
    "end\n"
   ]
  },
  {
   "cell_type": "code",
   "execution_count": 3,
   "metadata": {
    "collapsed": false
   },
   "outputs": [
    {
     "name": "stdout",
     "output_type": "stream",
     "text": [
      "Sparse_Vec2Dict(1,vect,3,2) = Dict(CartesianIndex{2}((1,3))=>Array{Float64,N}[[1.734723475976807e-18] [1.734723475976807e-18]],CartesianIndex{2}((3,1))=>Array{Float64,N}[[0.1864616142890404]\n",
      "                 [-0.18646161428904046]],CartesianIndex{2}((3,2))=>Array{Float64,N}[[-1.1121520371304427e-12]\n",
      "                 [-1.1121763232591064e-12]],CartesianIndex{2}((4,1))=>Array{Float64,N}[[0.08954202491867713]\n",
      "                 [0.0370895211236657]\n",
      "                 [-0.03708952112366565]\n",
      "                 [-0.08954202491867709]],CartesianIndex{2}((1,2))=>Array{Float64,N}[[7.864282142167056e-13]],CartesianIndex{2}((1,1))=>Array{Float64,N}[[0.6366197723676228]],CartesianIndex{2}((2,1))=>Array{Float64,N}[[5.551115123125783e-17]],CartesianIndex{2}((2,3))=>Array{Float64,N}[[1.214306433183765e-17] [1.214306433183765e-17]],CartesianIndex{2}((2,2))=>Array{Float64,N}[[7.864316836636576e-13]],CartesianIndex{2}((1,4))=>Array{Float64,N}[[3.932132397466148e-13] [3.932132397466148e-13] [3.932132397466148e-13] [3.932132397466148e-13]])\n"
     ]
    },
    {
     "data": {
      "text/plain": [
       "Dict{CartesianIndex{2},Array{Array{Float64,N},2}} with 10 entries:\n",
       "  CartesianIndex{2}((1,3)) => 1x2 Array{Array{Float64,N},2}:…\n",
       "  CartesianIndex{2}((3,1)) => 2x1 Array{Array{Float64,N},2}:…\n",
       "  CartesianIndex{2}((3,2)) => 2x1 Array{Array{Float64,N},2}:…\n",
       "  CartesianIndex{2}((4,1)) => 4x1 Array{Array{Float64,N},2}:…\n",
       "  CartesianIndex{2}((1,2)) => 1x1 Array{Array{Float64,N},2}:…\n",
       "  CartesianIndex{2}((1,1)) => 1x1 Array{Array{Float64,N},2}:…\n",
       "  CartesianIndex{2}((2,1)) => 1x1 Array{Array{Float64,N},2}:…\n",
       "  CartesianIndex{2}((2,3)) => 1x2 Array{Array{Float64,N},2}:…\n",
       "  CartesianIndex{2}((2,2)) => 1x1 Array{Array{Float64,N},2}:…\n",
       "  CartesianIndex{2}((1,4)) => 1x4 Array{Array{Float64,N},2}:…"
      ]
     },
     "execution_count": 3,
     "metadata": {},
     "output_type": "execute_result"
    }
   ],
   "source": [
    "coeffs = sparse_coefficients_DG(1,(x->sin(pi*x[1])), 3,2)\n",
    "\n",
    "vect= Sparse_Dict2Vec(1,coeffs, 3)\n",
    "@show Sparse_Vec2Dict(1,vect, 3, 2)"
   ]
  },
  {
   "cell_type": "code",
   "execution_count": 4,
   "metadata": {
    "collapsed": false
   },
   "outputs": [
    {
     "data": {
      "text/plain": [
       "Dict{CartesianIndex{2},Array{Array{Float64,N},2}} with 10 entries:\n",
       "  CartesianIndex{2}((1,3)) => 1x2 Array{Array{Float64,N},2}:…\n",
       "  CartesianIndex{2}((3,1)) => 2x1 Array{Array{Float64,N},2}:…\n",
       "  CartesianIndex{2}((3,2)) => 2x1 Array{Array{Float64,N},2}:…\n",
       "  CartesianIndex{2}((4,1)) => 4x1 Array{Array{Float64,N},2}:…\n",
       "  CartesianIndex{2}((1,2)) => 1x1 Array{Array{Float64,N},2}:…\n",
       "  CartesianIndex{2}((1,1)) => 1x1 Array{Array{Float64,N},2}:…\n",
       "  CartesianIndex{2}((2,1)) => 1x1 Array{Array{Float64,N},2}:…\n",
       "  CartesianIndex{2}((2,3)) => 1x2 Array{Array{Float64,N},2}:…\n",
       "  CartesianIndex{2}((2,2)) => 1x1 Array{Array{Float64,N},2}:…\n",
       "  CartesianIndex{2}((1,4)) => 1x4 Array{Array{Float64,N},2}:…"
      ]
     },
     "execution_count": 4,
     "metadata": {},
     "output_type": "execute_result"
    }
   ],
   "source": [
    "coeffs"
   ]
  },
  {
   "cell_type": "code",
   "execution_count": 5,
   "metadata": {
    "collapsed": false
   },
   "outputs": [
    {
     "data": {
      "text/plain": [
       "20-element Array{Float64,1}:\n",
       "  0.63662    \n",
       "  5.55112e-17\n",
       "  0.186462   \n",
       " -0.186462   \n",
       "  0.089542   \n",
       "  0.0370895  \n",
       " -0.0370895  \n",
       " -0.089542   \n",
       "  7.86428e-13\n",
       "  7.86432e-13\n",
       " -1.11215e-12\n",
       " -1.11218e-12\n",
       "  1.73472e-18\n",
       "  1.73472e-18\n",
       "  1.21431e-17\n",
       "  1.21431e-17\n",
       "  3.93213e-13\n",
       "  3.93213e-13\n",
       "  3.93213e-13\n",
       "  3.93213e-13"
      ]
     },
     "execution_count": 5,
     "metadata": {},
     "output_type": "execute_result"
    }
   ],
   "source": [
    "vect"
   ]
  },
  {
   "cell_type": "code",
   "execution_count": 7,
   "metadata": {
    "collapsed": false
   },
   "outputs": [
    {
     "data": {
      "text/plain": [
       "sparseSize (generic function with 1 method)"
      ]
     },
     "execution_count": 7,
     "metadata": {},
     "output_type": "execute_result"
    }
   ],
   "source": [
    "function sparseSize(k,n,D)\n",
    "    size=0\n",
    "    ls = ntuple(i-> (n+1),D)\n",
    "    for level in CartesianRange(ls) #This really goes from 0 to l_i for each i\n",
    "        diag_level=0;\n",
    "        for q in 1:D\n",
    "            diag_level+=level[q]\n",
    "        end\n",
    "        if diag_level > n + D #If we're past the levels we care about, don't compute coeffs\n",
    "            continue\n",
    "        end  \n",
    "        ks = ntuple(q -> 1<<pos(level[q]-2), D)\n",
    "        size+=prod(ks)*k^D\n",
    "    end\n",
    "    return size\n",
    "end"
   ]
  },
  {
   "cell_type": "code",
   "execution_count": 13,
   "metadata": {
    "collapsed": false
   },
   "outputs": [
    {
     "name": "stdout",
     "output_type": "stream",
     "text": [
      "1   ...bature/src/Cubature.jl; anonymous; line: 88\n",
      "1   ...lia Code/DG_Methods.jl; v; line: 12\n",
      "246 task.jl; anonymous; line: 447\n",
      " 246 .../IJulia/src/IJulia.jl; eventloop; line: 143\n",
      "  246 ...rc/execute_request.jl; execute_request_0x535c5df2; line: 183\n",
      "   246 loading.jl; include_string; line: 282\n",
      "    245 profile.jl; anonymous; line: 16\n",
      "     1   ...a Code/DG_Methods.jl; sparse_coefficients_DG; line: 156\n",
      "     3   ...a Code/DG_Methods.jl; sparse_coefficients_DG; line: 159\n",
      "     1   ...a Code/DG_Methods.jl; sparse_coefficients_DG; line: 160\n",
      "     240 ...a Code/DG_Methods.jl; sparse_coefficients_DG; line: 161\n",
      "      238 ... Code/DG_Methods.jl; get_coefficient_DG; line: 107\n",
      "       4   ... Code/DG_Methods.jl; inner_product; line: 96\n",
      "        4 .../lib/julia/sys.dylib; ntuple; (unknown line)\n",
      "         3 ... Code/DG_Methods.jl; anonymous; line: 96\n",
      "       234 ... Code/DG_Methods.jl; inner_product; line: 99\n",
      "        233 ...ure/src/Cubature.jl; hcubature; line: 223\n",
      "         232 ...re/src/Cubature.jl; cubature; line: 162\n",
      "          232 c.jl; disable_sigint; line: 96\n",
      "           232 ...e/src/Cubature.jl; anonymous; line: 194\n",
      "            1   ...e/src/Cubature.jl; sintegrand; line: 84\n",
      "            216 ...e/src/Cubature.jl; sintegrand; line: 87\n",
      "             203 c.jl; reenable_sigint; line: 97\n",
      "              200 ...e/src/Cubature.jl; anonymous; line: 88\n",
      "               24  ...t/src/Compat.jl; unsafe_wrap; line: 1300\n",
      "               101 ...e/DG_Methods.jl; anonymous; line: 98\n",
      "                46 ...de/DG_Methods.jl; anonymous; line: 44\n",
      "                 2  ...de/DG_Methods.jl; V; line: 33\n",
      "                 32 ...de/DG_Methods.jl; V; line: 35\n",
      "                  1  ...e/DG_Methods.jl; v; line: 12\n",
      "                  14 ...e/DG_Methods.jl; v; line: 14\n",
      "                   1  ...DG_Functions.jl; LegendreP; line: 35\n",
      "                   13 ...DG_Functions.jl; LegendreP; line: 36\n",
      "                    1 ...DG_Functions.jl; array2poly; line: 8\n",
      "                    1 ...DG_Functions.jl; array2poly; line: 11\n",
      "                    1 ...DG_Functions.jl; array2poly; line: 15\n",
      "                     1 ...julia/sys.dylib; steprange_last; (unknown line)\n",
      "                    7 ...DG_Functions.jl; array2poly; line: 19\n",
      "                    2 ...DG_Functions.jl; array2poly; line: 20\n",
      "                  12 ...e/DG_Methods.jl; v; line: 16\n",
      "                   6 ...DG_Functions.jl; h; line: 54\n",
      "                    1 ...DG_Functions.jl; array2poly; line: 12\n",
      "                    1 ...DG_Functions.jl; array2poly; line: 20\n",
      "                    1 ...DG_Functions.jl; array2poly; line: 23\n",
      "                43 In[13]; anonymous; line: 2\n",
      "                 4 math.jl; sin; line: 137\n",
      "            5   ...e/src/Cubature.jl; sintegrand; line: 90\n",
      "            3   ...e/src/Cubature.jl; sintegrand; line: 106\n"
     ]
    }
   ],
   "source": [
    "Profile.clear()\n",
    "@profile sparse_coefficients_DG(1,(x->sin(pi*x[1])), 5,3)\n",
    "Profile.print()"
   ]
  },
  {
   "cell_type": "code",
   "execution_count": 7,
   "metadata": {
    "collapsed": false
   },
   "outputs": [
    {
     "ename": "LoadError",
     "evalue": "LoadError: UndefVarError: sparse_size not defined\nwhile loading In[7], in expression starting on line 155",
     "output_type": "error",
     "traceback": [
      "LoadError: UndefVarError: sparse_size not defined\nwhile loading In[7], in expression starting on line 155",
      "",
      " in vsparse_coefficients_DG at /Users/Alex/Documents/Sparse Grids/Julia Code/DG_Methods.jl:403"
     ]
    }
   ],
   "source": [
    "@time vsparse_coefficients_DG(1,(x->sin(pi*x[1])), 5,3)"
   ]
  },
  {
   "cell_type": "code",
   "execution_count": null,
   "metadata": {
    "collapsed": true
   },
   "outputs": [],
   "source": []
  }
 ],
 "metadata": {
  "kernelspec": {
   "display_name": "Julia 0.4.6",
   "language": "julia",
   "name": "julia-0.4"
  },
  "language_info": {
   "file_extension": ".jl",
   "mimetype": "application/julia",
   "name": "julia",
   "version": "0.4.6"
  }
 },
 "nbformat": 4,
 "nbformat_minor": 0
}
