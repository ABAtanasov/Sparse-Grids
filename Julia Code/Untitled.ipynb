{
 "cells": [
  {
   "cell_type": "code",
   "execution_count": 83,
   "metadata": {
    "collapsed": false
   },
   "outputs": [
    {
     "name": "stderr",
     "output_type": "stream",
     "text": [
      "WARNING: redefining constant Leg_coeffs\n",
      "WARNING: redefining constant DG_coeffs\n"
     ]
    },
    {
     "data": {
      "text/plain": [
       "vsparse_reconstruct_DG (generic function with 1 method)"
      ]
     },
     "execution_count": 83,
     "metadata": {},
     "output_type": "execute_result"
    }
   ],
   "source": [
    "include(\"DG_Methods.jl\")"
   ]
  },
  {
   "cell_type": "code",
   "execution_count": 2,
   "metadata": {
    "collapsed": false
   },
   "outputs": [
    {
     "data": {
      "text/plain": [
       "sparse_reference_vector (generic function with 1 method)"
      ]
     },
     "execution_count": 2,
     "metadata": {},
     "output_type": "execute_result"
    }
   ],
   "source": [
    "function Full_Dict2Vec{D,T<:Real}(k::Int, coefficients::Dict{CartesianIndex{D}, Array{Array{T},D}}, ls::NTuple{D,Int})\n",
    "\tj=1\n",
    "\tsize=0\n",
    "\tf_numbers= ntuple(q-> k, D)\n",
    "\tfor level in CartesianRange(ls)\n",
    "\t\tks = ntuple(q -> 1<<pos(level[q]-2), D)\n",
    "\t\tsize+=prod(ks)*k^D\n",
    "\tend\n",
    "\tvect = Array(Float64,size)\n",
    "    for level in CartesianRange(ls)     # This really goes from 0 to l_i for each i,\n",
    "        ks = ntuple(q -> 1<<pos(level[q]-2), D)  #This sets up a specific k+1 vector\n",
    "        for place in CartesianRange(ks)\n",
    "\t\t\tfor f_number in CartesianRange(f_numbers)\n",
    "                vect[j]=coefficients[level][place][f_number]\n",
    "\t\t\t\tj+=1\n",
    "            end\n",
    "        end\n",
    "    end\n",
    "\treturn vect\n",
    "end\n",
    "\n",
    "function Sparse_Dict2Vec{D,T<:Real}(k::Int, coefficients::Dict{CartesianIndex{D}, Array{Array{T},D}}, n::Int)\n",
    "\tj=1\n",
    "\tsize = 0\n",
    "\tf_numbers= ntuple(i-> k, D)\n",
    "    ls = ntuple(i->(n+1),D)\n",
    "    for level in CartesianRange(ls) #This really goes from 0 to l_i for each i\n",
    "        diag_level=0;\n",
    "        for q in 1:D\n",
    "            diag_level+=level[q]\n",
    "        end\n",
    "        if diag_level > n + D #If we're past the levels we care about, don't compute coeffs\n",
    "            continue\n",
    "        end  #Otherwise we'll go ahead and DO IT. The same code follows as before.\n",
    "\t\tks = ntuple(q -> 1<<pos(level[q]-2), D)\n",
    "\t\tsize+=prod(ks)*k^D\n",
    "\tend\n",
    "\tvect = Array(Float64,size)\n",
    "    for level in CartesianRange(ls) #This really goes from 0 to l_i for each i\n",
    "        diag_level=0;\n",
    "        for q in 1:D\n",
    "            diag_level+=level[q]\n",
    "        end\n",
    "        if diag_level > n + D #If we're past the levels we care about, don't compute coeffs\n",
    "            continue\n",
    "        end  #Otherwise we'll go ahead and DO IT. The same code follows as before.\n",
    "\t    ks = ntuple(q -> 1<<pos(level[q]-2), D)  #This sets up a specific k+1 vector\n",
    "\t    for place in CartesianRange(ks)\n",
    "            for f_number in CartesianRange(f_numbers)\n",
    "                vect[j] = coefficients[level][place][f_number]\n",
    "\t\t\t\tj+=1\n",
    "            end\n",
    "        end\n",
    "    end\n",
    "    return vect\n",
    "end\n",
    "\n",
    "\n",
    "\n",
    "function Full_Vec2Dict{D,T<:Real}(k::Int, vect::Array{T}, ls::NTuple{D,Int})\n",
    "    coeffs = Dict{CartesianIndex{D}, Array{Array{Float64},D}}()\n",
    "\tf_numbers= ntuple(q-> k, D)\n",
    "\tj=1\n",
    "\tfor level in CartesianRange(ls)     # This really goes from 0 to l_i for each i,\n",
    "        ks = ntuple(q -> 1<<pos(level[q]-2), D)  #This sets up a specific k+1 vector\n",
    "        level_coeffs = Array(Array{Float64},ks)\t #all the coefficients at this level\n",
    "        for place in CartesianRange(ks)\n",
    "            level_coeffs[place]=Array(Float64,f_numbers)\n",
    "\t\t\tfor f_number in CartesianRange(f_numbers)\n",
    "                level_coeffs[place][f_number]=vect[j]\n",
    "\t\t\t\tj+=1\n",
    "            end\n",
    "        end\n",
    "\t\tcoeffs[level] = level_coeffs\n",
    "    end\n",
    "\treturn coeffs\n",
    "end\n",
    "\n",
    "function Sparse_Vec2Dict{T<:Real}(k::Int, vect::Array{T}, n::Int, D::Int)\n",
    "    coeffs = Dict{CartesianIndex{D}, Array{Array{Float64},D}}()\n",
    "\tf_numbers= ntuple(q-> k, D)\n",
    "    ls = ntuple(i->(n+1),D)\n",
    "\tj=1\n",
    "\tfor level in CartesianRange(ls) #This really goes from 0 to l_i for each i\n",
    "        diag_level=0;\n",
    "        for q in 1:D\n",
    "            diag_level+=level[q]\n",
    "        end\n",
    "        if diag_level > n + D #If we're past the levels we care about, don't compute coeffs\n",
    "            continue\n",
    "        end  #Otherwise we'll go ahead and DO IT. The same code follows as before.\n",
    "        ks = ntuple(q -> 1<<pos(level[q]-2), D)  #This sets up a specific k+1 vector\n",
    "        level_coeffs = Array(Array{Float64},ks)\t #all the coefficients at this level\n",
    "        for place in CartesianRange(ks)\n",
    "            level_coeffs[place]=Array(Float64,f_numbers)\n",
    "\t\t\tfor f_number in CartesianRange(f_numbers)\n",
    "                level_coeffs[place][f_number]=vect[j]\n",
    "\t\t\t\tj+=1\n",
    "            end\n",
    "        end\n",
    "\t\tcoeffs[level] = level_coeffs\n",
    "    end\n",
    "\treturn coeffs\n",
    "end\n",
    "\n",
    "function enumerate_basis_number{D}(lvl::NTuple{D, Int},place::CartesianRange{D}, f_number::CartesianRange{D},i)\n",
    "\tif i<=D\n",
    "\t\treturn lvl[i]\n",
    "\telseif i<=2D\n",
    "\t\treturn place[i-D]\n",
    "\telse \n",
    "\t\treturn f_number[i-2*D]\n",
    "\tend\n",
    "end\n",
    "\n",
    "function full_reference_vector{D}(k::Int, ls::NTuple{D,Int})\n",
    "\tj=1\n",
    "\tsize=0\n",
    "\tf_numbers= ntuple(q-> k, D)\n",
    "\tfor level in CartesianRange(ls)\n",
    "\t\tks = ntuple(q -> 1<<pos(level[q]-2), D)\n",
    "\t\tsize+=prod(ks)*k^D\n",
    "\tend\n",
    "\tvect = Array(NTuple{3*D},size)\n",
    "    for level in CartesianRange(ls)     # This really goes from 0 to l_i for each i,\n",
    "        ks = ntuple(q -> 1<<pos(level[q]-2), D)  #This sets up a specific k+1 vector\n",
    "\t\tlvl = ntuple(i -> level[i]-1,D)\n",
    "\t\t\n",
    "        for place in CartesianRange(ks)\n",
    "\t\t\tfor f_number in CartesianRange(f_numbers)\n",
    "                vect[j]=ntuple(i->enumerate_basis_number(lvl,place,fnumber,i),3*D)\n",
    "\t\t\t\tj+=1\n",
    "            end\n",
    "        end\n",
    "    end\n",
    "\treturn vect\n",
    "end\n",
    "\n",
    "function sparse_reference_vector(k::Int,n::Int,D::Int)\n",
    "\tj=1\n",
    "\tsize=0\n",
    "\tf_numbers= ntuple(q-> k, D)\n",
    "\tfor level in CartesianRange(ls)\n",
    "\t\tks = ntuple(q -> 1<<pos(level[q]-2), D)\n",
    "\t\tsize+=prod(ks)*k^D\n",
    "\tend\n",
    "\tvect = Array(NTuple{3*D},size)\n",
    "    for level in CartesianRange(ls)\n",
    "        diag_level=0;\n",
    "        for q in 1:D\n",
    "            diag_level+=level[q]\n",
    "        end\n",
    "        if diag_level > n + D #If we're past the levels we care about, don't compute coeffs\n",
    "            continue\n",
    "\t\tend\n",
    "        ks = ntuple(q -> 1<<pos(level[q]-2), D)  #This sets up a specific k+1 vector\n",
    "\t\tlvl = ntuple(i -> level[i]-1,D)\n",
    "        for place in CartesianRange(ks)\n",
    "\t\t\tfor f_number in CartesianRange(f_numbers)\n",
    "                vect[j]=ntuple(i->enumerate_basis_number(lvl,place,fnumber,i),3*D)\n",
    "\t\t\t\tj+=1\n",
    "            end\n",
    "        end\n",
    "    end\n",
    "\treturn vect\n",
    "end\n"
   ]
  },
  {
   "cell_type": "code",
   "execution_count": 3,
   "metadata": {
    "collapsed": false
   },
   "outputs": [
    {
     "name": "stdout",
     "output_type": "stream",
     "text": [
      "Sparse_Vec2Dict(1,vect,3,2) = Dict(CartesianIndex{2}((1,3))=>Array{Float64,N}[[1.734723475976807e-18] [1.734723475976807e-18]],CartesianIndex{2}((3,1))=>Array{Float64,N}[[0.1864616142890404]\n",
      "                 [-0.18646161428904046]],CartesianIndex{2}((3,2))=>Array{Float64,N}[[-1.1121520371304427e-12]\n",
      "                 [-1.1121763232591064e-12]],CartesianIndex{2}((4,1))=>Array{Float64,N}[[0.08954202491867713]\n",
      "                 [0.0370895211236657]\n",
      "                 [-0.03708952112366565]\n",
      "                 [-0.08954202491867709]],CartesianIndex{2}((1,2))=>Array{Float64,N}[[7.864282142167056e-13]],CartesianIndex{2}((1,1))=>Array{Float64,N}[[0.6366197723676228]],CartesianIndex{2}((2,1))=>Array{Float64,N}[[5.551115123125783e-17]],CartesianIndex{2}((2,3))=>Array{Float64,N}[[1.214306433183765e-17] [1.214306433183765e-17]],CartesianIndex{2}((2,2))=>Array{Float64,N}[[7.864316836636576e-13]],CartesianIndex{2}((1,4))=>Array{Float64,N}[[3.932132397466148e-13] [3.932132397466148e-13] [3.932132397466148e-13] [3.932132397466148e-13]])\n"
     ]
    },
    {
     "data": {
      "text/plain": [
       "Dict{CartesianIndex{2},Array{Array{Float64,N},2}} with 10 entries:\n",
       "  CartesianIndex{2}((1,3)) => 1x2 Array{Array{Float64,N},2}:…\n",
       "  CartesianIndex{2}((3,1)) => 2x1 Array{Array{Float64,N},2}:…\n",
       "  CartesianIndex{2}((3,2)) => 2x1 Array{Array{Float64,N},2}:…\n",
       "  CartesianIndex{2}((4,1)) => 4x1 Array{Array{Float64,N},2}:…\n",
       "  CartesianIndex{2}((1,2)) => 1x1 Array{Array{Float64,N},2}:…\n",
       "  CartesianIndex{2}((1,1)) => 1x1 Array{Array{Float64,N},2}:…\n",
       "  CartesianIndex{2}((2,1)) => 1x1 Array{Array{Float64,N},2}:…\n",
       "  CartesianIndex{2}((2,3)) => 1x2 Array{Array{Float64,N},2}:…\n",
       "  CartesianIndex{2}((2,2)) => 1x1 Array{Array{Float64,N},2}:…\n",
       "  CartesianIndex{2}((1,4)) => 1x4 Array{Array{Float64,N},2}:…"
      ]
     },
     "execution_count": 3,
     "metadata": {},
     "output_type": "execute_result"
    }
   ],
   "source": [
    "coeffs = sparse_coefficients_DG(1,(x->sin(pi*x[1])), 3,2)\n",
    "\n",
    "vect= Sparse_Dict2Vec(1,coeffs, 3)\n",
    "@show Sparse_Vec2Dict(1,vect, 3, 2)"
   ]
  },
  {
   "cell_type": "code",
   "execution_count": 4,
   "metadata": {
    "collapsed": false
   },
   "outputs": [
    {
     "data": {
      "text/plain": [
       "Dict{CartesianIndex{2},Array{Array{Float64,N},2}} with 10 entries:\n",
       "  CartesianIndex{2}((1,3)) => 1x2 Array{Array{Float64,N},2}:…\n",
       "  CartesianIndex{2}((3,1)) => 2x1 Array{Array{Float64,N},2}:…\n",
       "  CartesianIndex{2}((3,2)) => 2x1 Array{Array{Float64,N},2}:…\n",
       "  CartesianIndex{2}((4,1)) => 4x1 Array{Array{Float64,N},2}:…\n",
       "  CartesianIndex{2}((1,2)) => 1x1 Array{Array{Float64,N},2}:…\n",
       "  CartesianIndex{2}((1,1)) => 1x1 Array{Array{Float64,N},2}:…\n",
       "  CartesianIndex{2}((2,1)) => 1x1 Array{Array{Float64,N},2}:…\n",
       "  CartesianIndex{2}((2,3)) => 1x2 Array{Array{Float64,N},2}:…\n",
       "  CartesianIndex{2}((2,2)) => 1x1 Array{Array{Float64,N},2}:…\n",
       "  CartesianIndex{2}((1,4)) => 1x4 Array{Array{Float64,N},2}:…"
      ]
     },
     "execution_count": 4,
     "metadata": {},
     "output_type": "execute_result"
    }
   ],
   "source": [
    "coeffs"
   ]
  },
  {
   "cell_type": "code",
   "execution_count": 5,
   "metadata": {
    "collapsed": false
   },
   "outputs": [
    {
     "data": {
      "text/plain": [
       "20-element Array{Float64,1}:\n",
       "  0.63662    \n",
       "  5.55112e-17\n",
       "  0.186462   \n",
       " -0.186462   \n",
       "  0.089542   \n",
       "  0.0370895  \n",
       " -0.0370895  \n",
       " -0.089542   \n",
       "  7.86428e-13\n",
       "  7.86432e-13\n",
       " -1.11215e-12\n",
       " -1.11218e-12\n",
       "  1.73472e-18\n",
       "  1.73472e-18\n",
       "  1.21431e-17\n",
       "  1.21431e-17\n",
       "  3.93213e-13\n",
       "  3.93213e-13\n",
       "  3.93213e-13\n",
       "  3.93213e-13"
      ]
     },
     "execution_count": 5,
     "metadata": {},
     "output_type": "execute_result"
    }
   ],
   "source": [
    "vect"
   ]
  },
  {
   "cell_type": "code",
   "execution_count": 7,
   "metadata": {
    "collapsed": false
   },
   "outputs": [
    {
     "data": {
      "text/plain": [
       "sparseSize (generic function with 1 method)"
      ]
     },
     "execution_count": 7,
     "metadata": {},
     "output_type": "execute_result"
    }
   ],
   "source": [
    "function sparseSize(k,n,D)\n",
    "    size=0\n",
    "    ls = ntuple(i-> (n+1),D)\n",
    "    for level in CartesianRange(ls) #This really goes from 0 to l_i for each i\n",
    "        diag_level=0;\n",
    "        for q in 1:D\n",
    "            diag_level+=level[q]\n",
    "        end\n",
    "        if diag_level > n + D #If we're past the levels we care about, don't compute coeffs\n",
    "            continue\n",
    "        end  \n",
    "        ks = ntuple(q -> 1<<pos(level[q]-2), D)\n",
    "        size+=prod(ks)*k^D\n",
    "    end\n",
    "    return size\n",
    "end"
   ]
  },
  {
   "cell_type": "code",
   "execution_count": 120,
   "metadata": {
    "collapsed": false
   },
   "outputs": [
    {
     "data": {
      "image/png": "[encoded data removed]",
      "text/plain": [
       "PyPlot.Figure(PyObject <matplotlib.figure.Figure object at 0x31eb17810>)"
      ]
     },
     "metadata": {},
     "output_type": "display_data"
    },
    {
     "data": {
      "text/plain": [
       "1-element Array{Any,1}:\n",
       " PyObject <matplotlib.lines.Line2D object at 0x31f1384d0>"
      ]
     },
     "execution_count": 120,
     "metadata": {},
     "output_type": "execute_result"
    }
   ],
   "source": [
    "\n",
    "plotfunc1D(x->v(4,1,1,3,x[1]))\n"
   ]
  },
  {
   "cell_type": "code",
   "execution_count": 123,
   "metadata": {
    "collapsed": false
   },
   "outputs": [
    {
     "data": {
      "text/plain": [
       "(2.9814239699993954,2.236067977499419)"
      ]
     },
     "execution_count": 123,
     "metadata": {},
     "output_type": "execute_result"
    }
   ],
   "source": [
    "v(4,1,1,3,0.5),v(4,1,1,3,0)"
   ]
  },
  {
   "cell_type": "code",
   "execution_count": 113,
   "metadata": {
    "collapsed": false
   },
   "outputs": [
    {
     "name": "stderr",
     "output_type": "stream",
     "text": [
      "WARNING: redefining constant Leg_coeffs\n",
      "WARNING: redefining constant DG_coeffs\n"
     ]
    },
    {
     "data": {
      "text/plain": [
       "gap_vals1D (generic function with 1 method)"
      ]
     },
     "execution_count": 113,
     "metadata": {},
     "output_type": "execute_result"
    }
   ],
   "source": [
    "include(\"Precompute_Gaps.jl\")"
   ]
  },
  {
   "cell_type": "code",
   "execution_count": 124,
   "metadata": {
    "collapsed": false
   },
   "outputs": [
    {
     "name": "stdout",
     "output_type": "stream",
     "text": [
      "  0.000006 seconds (7 allocations: 304 bytes)\n"
     ]
    },
    {
     "data": {
      "text/plain": [
       "4-element Array{Float64,1}:\n",
       "  2.23607\n",
       " -2.98142\n",
       "  2.98142\n",
       " -2.23607"
      ]
     },
     "execution_count": 124,
     "metadata": {},
     "output_type": "execute_result"
    }
   ],
   "source": [
    "@time gap_vals1D(4,1,3)"
   ]
  },
  {
   "cell_type": "code",
   "execution_count": null,
   "metadata": {
    "collapsed": true
   },
   "outputs": [],
   "source": []
  }
 ],
 "metadata": {
  "kernelspec": {
   "display_name": "Julia 0.4.6",
   "language": "julia",
   "name": "julia-0.4"
  },
  "language_info": {
   "file_extension": ".jl",
   "mimetype": "application/julia",
   "name": "julia",
   "version": "0.4.6"
  }
 },
 "nbformat": 4,
 "nbformat_minor": 0
}
