{
 "cells": [
  {
   "cell_type": "code",
   "execution_count": 32,
   "metadata": {
    "collapsed": false
   },
   "outputs": [
    {
     "name": "stderr",
     "output_type": "stream",
     "text": [
      "INFO: Precompiling module Cubature...\n"
     ]
    }
   ],
   "source": [
    "using PyPlot"
   ]
  },
  {
   "cell_type": "code",
   "execution_count": 9,
   "metadata": {
    "collapsed": false,
    "scrolled": true
   },
   "outputs": [
    {
     "data": {
      "text/plain": [
       "DG_Basis (generic function with 1 method)"
      ]
     },
     "execution_count": 9,
     "metadata": {},
     "output_type": "execute_result"
    }
   ],
   "source": [
    "include(\"DG_Functions.jl\")"
   ]
  },
  {
   "cell_type": "code",
   "execution_count": 57,
   "metadata": {
    "collapsed": false
   },
   "outputs": [
    {
     "data": {
      "text/plain": [
       "h (generic function with 2 methods)"
      ]
     },
     "execution_count": 57,
     "metadata": {},
     "output_type": "execute_result"
    }
   ],
   "source": [
    "const K_max = 10;\n",
    "\n",
    "#Going from Arrays to Polynomials\n",
    "\n",
    "function array2poly{T<:Real}(v::Array{T},x)\n",
    "    n=length(v)\n",
    "    k=Int(round(n/2))\n",
    "    coeffs1 = [v[i] * x^(i-1) for i in 1:k]\n",
    "    coeffs2 = [v[i+k] * f(i-1,x) for i in 1:k]\n",
    "    return sum(coeffs1)+sum(coeffs2)\n",
    "end\n",
    "\n",
    "function array2poly{T<:Real}(v::Array{T})\n",
    "    return (x-> array2poly(v,x))\n",
    "end\n",
    "\n",
    "#precompute Legendre\n",
    "\n",
    "Leg_coeffs=legendre(K_max)\n",
    "\n",
    "function LegendreP(k,x)\n",
    "    k<=K_max?0:throw(DomainError())\n",
    "    return array2poly(Leg_coeffs[k+1],x)\n",
    "end\n",
    "\n",
    "function LegendreP(k)\n",
    "    k<=K_max?0:throw(DomainError())\n",
    "    return array2poly(Leg_coeffs[k+1])\n",
    "end\n",
    "\n",
    "#precompute DG functions\n",
    "\n",
    "DG_coeffs=Array(Any,10)\n",
    "for i in 1:K_max\n",
    "    DG_coeffs[i] = DG_Basis(i)\n",
    "end\n",
    "\n",
    "function h(k,f_number,x)\n",
    "    f_number<=k?0:throw(DomainError())\n",
    "    return array2poly((DG_coeffs[k])[f_number],x)\n",
    "end\n",
    "\n",
    "function h(k,f_number)\n",
    "    f_number<=k?0:throw(DomainError())\n",
    "    return array2poly((DG_coeffs[k])[f_number])\n",
    "end"
   ]
  },
  {
   "cell_type": "code",
   "execution_count": 59,
   "metadata": {
    "collapsed": false
   },
   "outputs": [
    {
     "ename": "LoadError",
     "evalue": "LoadError: DomainError:\nwhile loading In[59], in expression starting on line 1",
     "output_type": "error",
     "traceback": [
      "LoadError: DomainError:\nwhile loading In[59], in expression starting on line 1",
      "",
      " in h at In[57]:44"
     ]
    }
   ],
   "source": [
    "plot_func(h(6,7))"
   ]
  },
  {
   "cell_type": "code",
   "execution_count": null,
   "metadata": {
    "collapsed": true
   },
   "outputs": [],
   "source": []
  }
 ],
 "metadata": {
  "kernelspec": {
   "display_name": "Julia 0.4.6",
   "language": "julia",
   "name": "julia-0.4"
  },
  "language_info": {
   "file_extension": ".jl",
   "mimetype": "application/julia",
   "name": "julia",
   "version": "0.4.6"
  }
 },
 "nbformat": 4,
 "nbformat_minor": 0
}
